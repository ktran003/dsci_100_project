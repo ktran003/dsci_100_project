{
 "cells": [
  {
   "cell_type": "markdown",
   "id": "a2341cc6-230f-457d-a9da-3274aa356d88",
   "metadata": {},
   "source": [
    "# Title: Predictive Analysis of Diabetes Dataset\n"
   ]
  },
  {
   "cell_type": "markdown",
   "id": "3675cc3d-6be7-4d73-a43d-b86207bc5b3c",
   "metadata": {},
   "source": [
    "Testing push."
   ]
  }
 ],
 "metadata": {
  "kernelspec": {
   "display_name": "R",
   "language": "R",
   "name": "ir"
  },
  "language_info": {
   "codemirror_mode": "r",
   "file_extension": ".r",
   "mimetype": "text/x-r-source",
   "name": "R",
   "pygments_lexer": "r",
   "version": "4.3.1"
  }
 },
 "nbformat": 4,
 "nbformat_minor": 5
}
