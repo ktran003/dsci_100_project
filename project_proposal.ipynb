{
 "cells": [
  {
   "cell_type": "markdown",
   "id": "a2341cc6-230f-457d-a9da-3274aa356d88",
   "metadata": {},
   "source": [
    "# Predictive Analysis of Diabetes Dataset\n"
   ]
  },
  {
   "cell_type": "markdown",
   "id": "3675cc3d-6be7-4d73-a43d-b86207bc5b3c",
   "metadata": {},
   "source": [
    "## Introduction"
   ]
  },
  {
   "cell_type": "markdown",
   "id": "4f4ced8b-0eb8-438b-b0cf-b560c692bdad",
   "metadata": {},
   "source": []
  },
  {
   "cell_type": "markdown",
   "id": "f8c9d030-7f80-4bc4-a7b7-b43487fcecbc",
   "metadata": {},
   "source": [
    "## Preliminary exploratory data analysis"
   ]
  },
  {
   "cell_type": "code",
   "execution_count": 1,
   "id": "82f1e56f-1ea6-4882-aacc-e88864851d00",
   "metadata": {
    "scrolled": true
   },
   "outputs": [
    {
     "name": "stderr",
     "output_type": "stream",
     "text": [
      "── \u001b[1mAttaching core tidyverse packages\u001b[22m ──────────────────────── tidyverse 2.0.0 ──\n",
      "\u001b[32m✔\u001b[39m \u001b[34mdplyr    \u001b[39m 1.1.3     \u001b[32m✔\u001b[39m \u001b[34mreadr    \u001b[39m 2.1.4\n",
      "\u001b[32m✔\u001b[39m \u001b[34mforcats  \u001b[39m 1.0.0     \u001b[32m✔\u001b[39m \u001b[34mstringr  \u001b[39m 1.5.0\n",
      "\u001b[32m✔\u001b[39m \u001b[34mggplot2  \u001b[39m 3.4.4     \u001b[32m✔\u001b[39m \u001b[34mtibble   \u001b[39m 3.2.1\n",
      "\u001b[32m✔\u001b[39m \u001b[34mlubridate\u001b[39m 1.9.3     \u001b[32m✔\u001b[39m \u001b[34mtidyr    \u001b[39m 1.3.0\n",
      "\u001b[32m✔\u001b[39m \u001b[34mpurrr    \u001b[39m 1.0.2     \n",
      "── \u001b[1mConflicts\u001b[22m ────────────────────────────────────────── tidyverse_conflicts() ──\n",
      "\u001b[31m✖\u001b[39m \u001b[34mdplyr\u001b[39m::\u001b[32mfilter()\u001b[39m masks \u001b[34mstats\u001b[39m::filter()\n",
      "\u001b[31m✖\u001b[39m \u001b[34mdplyr\u001b[39m::\u001b[32mlag()\u001b[39m    masks \u001b[34mstats\u001b[39m::lag()\n",
      "\u001b[36mℹ\u001b[39m Use the conflicted package (\u001b[3m\u001b[34m<http://conflicted.r-lib.org/>\u001b[39m\u001b[23m) to force all conflicts to become errors\n",
      "── \u001b[1mAttaching packages\u001b[22m ────────────────────────────────────── tidymodels 1.1.1 ──\n",
      "\n",
      "\u001b[32m✔\u001b[39m \u001b[34mbroom       \u001b[39m 1.0.5     \u001b[32m✔\u001b[39m \u001b[34mrsample     \u001b[39m 1.2.0\n",
      "\u001b[32m✔\u001b[39m \u001b[34mdials       \u001b[39m 1.2.0     \u001b[32m✔\u001b[39m \u001b[34mtune        \u001b[39m 1.1.2\n",
      "\u001b[32m✔\u001b[39m \u001b[34minfer       \u001b[39m 1.0.5     \u001b[32m✔\u001b[39m \u001b[34mworkflows   \u001b[39m 1.1.3\n",
      "\u001b[32m✔\u001b[39m \u001b[34mmodeldata   \u001b[39m 1.2.0     \u001b[32m✔\u001b[39m \u001b[34mworkflowsets\u001b[39m 1.0.1\n",
      "\u001b[32m✔\u001b[39m \u001b[34mparsnip     \u001b[39m 1.1.1     \u001b[32m✔\u001b[39m \u001b[34myardstick   \u001b[39m 1.2.0\n",
      "\u001b[32m✔\u001b[39m \u001b[34mrecipes     \u001b[39m 1.0.8     \n",
      "\n",
      "── \u001b[1mConflicts\u001b[22m ───────────────────────────────────────── tidymodels_conflicts() ──\n",
      "\u001b[31m✖\u001b[39m \u001b[34mscales\u001b[39m::\u001b[32mdiscard()\u001b[39m masks \u001b[34mpurrr\u001b[39m::discard()\n",
      "\u001b[31m✖\u001b[39m \u001b[34mdplyr\u001b[39m::\u001b[32mfilter()\u001b[39m   masks \u001b[34mstats\u001b[39m::filter()\n",
      "\u001b[31m✖\u001b[39m \u001b[34mrecipes\u001b[39m::\u001b[32mfixed()\u001b[39m  masks \u001b[34mstringr\u001b[39m::fixed()\n",
      "\u001b[31m✖\u001b[39m \u001b[34mdplyr\u001b[39m::\u001b[32mlag()\u001b[39m      masks \u001b[34mstats\u001b[39m::lag()\n",
      "\u001b[31m✖\u001b[39m \u001b[34myardstick\u001b[39m::\u001b[32mspec()\u001b[39m masks \u001b[34mreadr\u001b[39m::spec()\n",
      "\u001b[31m✖\u001b[39m \u001b[34mrecipes\u001b[39m::\u001b[32mstep()\u001b[39m   masks \u001b[34mstats\u001b[39m::step()\n",
      "\u001b[34m•\u001b[39m Use \u001b[32mtidymodels_prefer()\u001b[39m to resolve common conflicts.\n",
      "\n",
      "\u001b[1mRows: \u001b[22m\u001b[34m768\u001b[39m \u001b[1mColumns: \u001b[22m\u001b[34m9\u001b[39m\n",
      "\u001b[36m──\u001b[39m \u001b[1mColumn specification\u001b[22m \u001b[36m────────────────────────────────────────────────────────\u001b[39m\n",
      "\u001b[1mDelimiter:\u001b[22m \",\"\n",
      "\u001b[32mdbl\u001b[39m (9): Pregnancies, Glucose, BloodPressure, SkinThickness, Insulin, BMI, D...\n",
      "\n",
      "\u001b[36mℹ\u001b[39m Use `spec()` to retrieve the full column specification for this data.\n",
      "\u001b[36mℹ\u001b[39m Specify the column types or set `show_col_types = FALSE` to quiet this message.\n"
     ]
    }
   ],
   "source": [
    "library(repr)\n",
    "library(tidyverse)\n",
    "library(tidymodels)\n",
    "library(ggplot2)\n",
    "\n",
    "diabetes_data <- read_csv(\"diabetes.csv\")"
   ]
  },
  {
   "cell_type": "markdown",
   "id": "deef6259-69ea-4799-8df4-9055a230b21f",
   "metadata": {},
   "source": [
    "In this dataset:\n",
    "\n",
    "- Each variable forms a column.\n",
    "- Each observation forms a row.\n",
    "- Each type of observational unit forms a table.\n",
    "\n",
    "Therefore, as each row represents an individual's data on each variable, the dataset is tidy."
   ]
  },
  {
   "cell_type": "code",
   "execution_count": 2,
   "id": "ed5dd149-e42f-4035-9b60-0152d814fb78",
   "metadata": {},
   "outputs": [
    {
     "data": {
      "text/html": [
       "<table class=\"dataframe\">\n",
       "<caption>A tibble: 2 × 11</caption>\n",
       "<thead>\n",
       "\t<tr><th scope=col>Outcome</th><th scope=col>mean_Pregnancies</th><th scope=col>mean_Glucose</th><th scope=col>mean_BloodPressure</th><th scope=col>mean_SkinThickness</th><th scope=col>mean_Insulin</th><th scope=col>mean_BMI</th><th scope=col>mean_DiabetesPedigreeFunction</th><th scope=col>mean_Age</th><th scope=col>n_count</th><th scope=col>missing_data_count</th></tr>\n",
       "\t<tr><th scope=col>&lt;dbl&gt;</th><th scope=col>&lt;dbl&gt;</th><th scope=col>&lt;dbl&gt;</th><th scope=col>&lt;dbl&gt;</th><th scope=col>&lt;dbl&gt;</th><th scope=col>&lt;dbl&gt;</th><th scope=col>&lt;dbl&gt;</th><th scope=col>&lt;dbl&gt;</th><th scope=col>&lt;dbl&gt;</th><th scope=col>&lt;int&gt;</th><th scope=col>&lt;int&gt;</th></tr>\n",
       "</thead>\n",
       "<tbody>\n",
       "\t<tr><td>0</td><td>3.162667</td><td>109.7520</td><td>68.02933</td><td>19.77067</td><td> 70.99467</td><td>30.07733</td><td>0.4385707</td><td>31.1760</td><td>375</td><td>0</td></tr>\n",
       "\t<tr><td>1</td><td>4.865672</td><td>139.4776</td><td>70.64179</td><td>22.37811</td><td>104.67164</td><td>35.03433</td><td>0.5647065</td><td>36.9602</td><td>201</td><td>0</td></tr>\n",
       "</tbody>\n",
       "</table>\n"
      ],
      "text/latex": [
       "A tibble: 2 × 11\n",
       "\\begin{tabular}{lllllllllll}\n",
       " Outcome & mean\\_Pregnancies & mean\\_Glucose & mean\\_BloodPressure & mean\\_SkinThickness & mean\\_Insulin & mean\\_BMI & mean\\_DiabetesPedigreeFunction & mean\\_Age & n\\_count & missing\\_data\\_count\\\\\n",
       " <dbl> & <dbl> & <dbl> & <dbl> & <dbl> & <dbl> & <dbl> & <dbl> & <dbl> & <int> & <int>\\\\\n",
       "\\hline\n",
       "\t 0 & 3.162667 & 109.7520 & 68.02933 & 19.77067 &  70.99467 & 30.07733 & 0.4385707 & 31.1760 & 375 & 0\\\\\n",
       "\t 1 & 4.865672 & 139.4776 & 70.64179 & 22.37811 & 104.67164 & 35.03433 & 0.5647065 & 36.9602 & 201 & 0\\\\\n",
       "\\end{tabular}\n"
      ],
      "text/markdown": [
       "\n",
       "A tibble: 2 × 11\n",
       "\n",
       "| Outcome &lt;dbl&gt; | mean_Pregnancies &lt;dbl&gt; | mean_Glucose &lt;dbl&gt; | mean_BloodPressure &lt;dbl&gt; | mean_SkinThickness &lt;dbl&gt; | mean_Insulin &lt;dbl&gt; | mean_BMI &lt;dbl&gt; | mean_DiabetesPedigreeFunction &lt;dbl&gt; | mean_Age &lt;dbl&gt; | n_count &lt;int&gt; | missing_data_count &lt;int&gt; |\n",
       "|---|---|---|---|---|---|---|---|---|---|---|\n",
       "| 0 | 3.162667 | 109.7520 | 68.02933 | 19.77067 |  70.99467 | 30.07733 | 0.4385707 | 31.1760 | 375 | 0 |\n",
       "| 1 | 4.865672 | 139.4776 | 70.64179 | 22.37811 | 104.67164 | 35.03433 | 0.5647065 | 36.9602 | 201 | 0 |\n",
       "\n"
      ],
      "text/plain": [
       "  Outcome mean_Pregnancies mean_Glucose mean_BloodPressure mean_SkinThickness\n",
       "1 0       3.162667         109.7520     68.02933           19.77067          \n",
       "2 1       4.865672         139.4776     70.64179           22.37811          \n",
       "  mean_Insulin mean_BMI mean_DiabetesPedigreeFunction mean_Age n_count\n",
       "1  70.99467    30.07733 0.4385707                     31.1760  375    \n",
       "2 104.67164    35.03433 0.5647065                     36.9602  201    \n",
       "  missing_data_count\n",
       "1 0                 \n",
       "2 0                 "
      ]
     },
     "metadata": {},
     "output_type": "display_data"
    }
   ],
   "source": [
    "#splitting dataframe into training, testing datasets\n",
    "diabetes_split <- initial_split(diabetes_data, prop = 0.75, strata = Outcome)\n",
    "\n",
    "diabetes_train <- training(diabetes_split)\n",
    "diabetes_test <- testing(diabetes_split)\n",
    "\n",
    "#summarizing to get mean of each predictor + total no. of rows per class\n",
    "diabetes_summary <- diabetes_train |>\n",
    "                    group_by(Outcome) |>\n",
    "                    summarize(mean_Pregnancies = mean(Pregnancies), mean_Glucose = mean(Glucose),\n",
    "                              mean_BloodPressure = mean(BloodPressure), mean_SkinThickness = mean(SkinThickness),\n",
    "                              mean_Insulin = mean(Insulin), mean_BMI = mean(BMI), \n",
    "                              mean_DiabetesPedigreeFunction = mean(DiabetesPedigreeFunction), mean_Age = mean(Age),\n",
    "                              n_count = n(), missing_data_count = sum(is.na(diabetes_train)))\n",
    "\n",
    "diabetes_summary\n",
    "     \n",
    "# Scatter plots for numerical predictors against the outcome\n",
    "numerical_predictors <- c(\"Pregnancies\", \"Glucose\", \"BloodPressure\", \"SkinThickness\", \"Insulin\", \"BMI\", \"DiabetesPedigreeFunction\", \"Age\")\n",
    "\n",
    "# Create a list of ggplot objects for each numerical predictor"
   ]
  },
  {
   "cell_type": "markdown",
   "id": "80ec20e9-9aee-4115-b385-06afde841be7",
   "metadata": {
    "jp-MarkdownHeadingCollapsed": true
   },
   "source": [
    "## Methods\n",
    "\n",
    "We used K-nearest neighbour (knn) classification to predict the outcome *Diabetes*, which takes values 0 (negative) or 1 (positive). Among the 8 columns other than the outcome column, we chose *Glucose*, *BMI*, *Diabetes Predigree Function*, and *Age* as the predictors. *Glucose* and *BMI* were included as predictors because ... <span style=\"color:red\">To be completed after Introduction section is finished ...</span>\n",
    "\n",
    "The whole dataset was scaled and centred before splitting into 75\\% training and 25\\% testing datasets. For the training data, the knn model was fitted using Euclidean distance. The number of nearest neighbours, $k$, was yet to be determined through 5-fold cross validation, in which the training data were divided equally into 5 subsets, and each subset was used as the validation dataset while the other four were used to fit the model with different $k$. The value of $k$ was then optimized using the average validation **recall** among the 5 validation datasets. We used recall (fraction of positive that are predicted by the model) as our evaluation metrics because our model targets to detect as much diabetes patients as possible, while false positive results are acceptable as they could be handeled by follow-up treatment procedures.\n",
    "\n",
    "The results were visuallized using a table of the numbers of True/Predicted positive and negative cases, which looks like the one below:\n",
    "\n",
    "|  | Predicted Positive | Predicted Negative |\n",
    "| --- | --- | --- |\n",
    "| **True Positive** | ... | ... |\n",
    "| **True Negative** | ... | ... |"
   ]
  },
  {
   "cell_type": "markdown",
   "id": "700ef65a-638f-4a25-9144-6a884be17f77",
   "metadata": {},
   "source": [
    "## Expected outcomes and significance\n"
   ]
  },
  {
   "cell_type": "markdown",
   "id": "3e2d466f-f19a-49b5-9a6d-7e569c4d251e",
   "metadata": {},
   "source": []
  }
 ],
 "metadata": {
  "kernelspec": {
   "display_name": "R",
   "language": "R",
   "name": "ir"
  },
  "language_info": {
   "codemirror_mode": "r",
   "file_extension": ".r",
   "mimetype": "text/x-r-source",
   "name": "R",
   "pygments_lexer": "r",
   "version": "4.3.1"
  }
 },
 "nbformat": 4,
 "nbformat_minor": 5
}
