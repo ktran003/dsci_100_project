{
 "cells": [
  {
   "cell_type": "markdown",
   "id": "a2341cc6-230f-457d-a9da-3274aa356d88",
   "metadata": {},
   "source": [
    "# Title: Predictive Analysis of Diabetes Dataset\n"
   ]
  },
  {
   "cell_type": "code",
   "execution_count": null,
   "id": "373ef6e0-d6a3-430e-9692-e01e1cf48d0e",
   "metadata": {},
   "outputs": [],
   "source": []
  }
 ],
 "metadata": {
  "kernelspec": {
   "display_name": "R",
   "language": "R",
   "name": "ir"
  },
  "language_info": {
   "codemirror_mode": "r",
   "file_extension": ".r",
   "mimetype": "text/x-r-source",
   "name": "R",
   "pygments_lexer": "r",
   "version": "4.3.1"
  }
 },
 "nbformat": 4,
 "nbformat_minor": 5
}
